{
 "cells": [
  {
   "cell_type": "code",
   "execution_count": null,
   "id": "568896c4-f2e4-4917-b341-8f3cda3f91fe",
   "metadata": {},
   "outputs": [],
   "source": [
    "import pandas as pd\n",
    "\n",
    "# STC (Suudi Telekom) read the stock\n",
    "df = pd.read_csv(\"../data/raw/stc_saudi.csv\", parse_dates=[\"Date\"], index_col=\"Date\")\n",
    "\n",
    "# İlk 5 satırı göster\n",
    "df.head()\n"
   ]
  }
 ],
 "metadata": {
  "kernelspec": {
   "display_name": "Python 3 (bazaarx)",
   "language": "python",
   "name": "bazaarx"
  },
  "language_info": {
   "codemirror_mode": {
    "name": "ipython",
    "version": 3
   },
   "file_extension": ".py",
   "mimetype": "text/x-python",
   "name": "python",
   "nbconvert_exporter": "python",
   "pygments_lexer": "ipython3",
   "version": "3.12.7"
  }
 },
 "nbformat": 4,
 "nbformat_minor": 5
}
